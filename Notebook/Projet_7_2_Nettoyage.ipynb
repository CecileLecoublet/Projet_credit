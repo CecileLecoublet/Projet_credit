{
 "cells": [
  {
   "attachments": {},
   "cell_type": "markdown",
   "metadata": {},
   "source": [
    "# Nettoyage des données"
   ]
  },
  {
   "attachments": {},
   "cell_type": "markdown",
   "metadata": {},
   "source": [
    "Après l'analyse exploratoire, on va nettoyer les données."
   ]
  },
  {
   "attachments": {},
   "cell_type": "markdown",
   "metadata": {},
   "source": [
    "## Sommaire\n",
    "* [Gestion des outliers](#chapter1)\n",
    "* [Gestion des valeurs manquantes](#chapter2)\n",
    "    * [Les types 'object'](#section_2_1)\n",
    "    * [Les types 'float64'](#section_2_2)\n",
    "* [Gestion des doublons](#chapter3)"
   ]
  },
  {
   "cell_type": "code",
   "execution_count": 1,
   "metadata": {},
   "outputs": [],
   "source": [
    "#Importation des librairies de bases\n",
    "import pandas as pd\n",
    "import numpy as np\n",
    "import seaborn as sns\n",
    "import matplotlib.pyplot as plt\n",
    "\n",
    "# Importation des librairies de sklearn\n",
    "from sklearn import datasets, preprocessing, model_selection, ensemble, pipeline\n",
    "\n",
    "import warnings\n",
    "warnings.filterwarnings(\"ignore\")"
   ]
  },
  {
   "cell_type": "code",
   "execution_count": 2,
   "metadata": {},
   "outputs": [],
   "source": [
    "app_train = pd.read_csv(\"data/application_train.csv\")\n",
    "app_test = pd.read_csv(\"data/application_test.csv\")"
   ]
  },
  {
   "attachments": {},
   "cell_type": "markdown",
   "metadata": {},
   "source": [
    "## Gestion des outliers <a class=\"anchor\" id=\"chapter1\"></a>\n",
    "\n",
    "Maintenant, nous allons nous observer les outliers et examiner la colonne : \"BAYS_BIRTH\" ont des valeurs négatives. Pour pouvoir l'analyser, on va diviser par (-365) pour qu'on puisse facilement l'analyser. On va analyser les colonnes qui représentent des dates."
   ]
  },
  {
   "cell_type": "code",
   "execution_count": 3,
   "metadata": {},
   "outputs": [
    {
     "data": {
      "text/plain": [
       "count    307511.000000\n",
       "mean     -16036.995067\n",
       "std        4363.988632\n",
       "min      -25229.000000\n",
       "25%      -19682.000000\n",
       "50%      -15750.000000\n",
       "75%      -12413.000000\n",
       "max       -7489.000000\n",
       "Name: DAYS_BIRTH, dtype: float64"
      ]
     },
     "execution_count": 3,
     "metadata": {},
     "output_type": "execute_result"
    }
   ],
   "source": [
    "app_train['DAYS_BIRTH'].describe()"
   ]
  },
  {
   "attachments": {},
   "cell_type": "markdown",
   "metadata": {},
   "source": [
    "Il est nécessaire de modifier cette variable pour abtenir un chiffre facilement compréhensible plutôt que de garder un chiffre négatif qui est marque l'enregistrement du client."
   ]
  },
  {
   "cell_type": "code",
   "execution_count": 4,
   "metadata": {},
   "outputs": [
    {
     "data": {
      "text/plain": [
       "count    307511.000000\n",
       "mean         43.936973\n",
       "std          11.956133\n",
       "min          20.517808\n",
       "25%          34.008219\n",
       "50%          43.150685\n",
       "75%          53.923288\n",
       "max          69.120548\n",
       "Name: DAYS_BIRTH, dtype: float64"
      ]
     },
     "execution_count": 4,
     "metadata": {},
     "output_type": "execute_result"
    }
   ],
   "source": [
    "(app_train['DAYS_BIRTH'] / -365).describe()"
   ]
  },
  {
   "attachments": {},
   "cell_type": "markdown",
   "metadata": {},
   "source": [
    "On va afficher les âges des clients et si c'est un client à risque ou pas."
   ]
  },
  {
   "cell_type": "code",
   "execution_count": 5,
   "metadata": {},
   "outputs": [
    {
     "data": {
      "text/plain": [
       "Text(0.5, 1.0, 'Âge des clients')"
      ]
     },
     "execution_count": 5,
     "metadata": {},
     "output_type": "execute_result"
    },
    {
     "data": {
      "image/png": "[encoded data removed]",
      "text/plain": [
       "<Figure size 720x720 with 1 Axes>"
      ]
     },
     "metadata": {
      "needs_background": "light"
     },
     "output_type": "display_data"
    }
   ],
   "source": [
    "app_train['DAYS_BIRTH'] = np.abs(app_train['DAYS_BIRTH'])/365\n",
    "app_test['DAYS_BIRTH'] = np.abs(app_test['DAYS_BIRTH'])/365\n",
    "\n",
    "plt.rcParams[\"figure.figsize\"] = (10, 10)\n",
    "sns.histplot(data = app_train, x = 'DAYS_BIRTH', hue = 'TARGET')\n",
    "plt.xticks(rotation=45)\n",
    "plt.title(\"Âge des clients\")"
   ]
  },
  {
   "attachments": {},
   "cell_type": "markdown",
   "metadata": {},
   "source": [
    "Maintenant que nous avons vu la colonne âge, on va regarder le nombres de jours de travail des client."
   ]
  },
  {
   "cell_type": "code",
   "execution_count": 6,
   "metadata": {},
   "outputs": [
    {
     "data": {
      "text/plain": [
       "count    307511.000000\n",
       "mean      63815.045904\n",
       "std      141275.766519\n",
       "min      -17912.000000\n",
       "25%       -2760.000000\n",
       "50%       -1213.000000\n",
       "75%        -289.000000\n",
       "max      365243.000000\n",
       "Name: DAYS_EMPLOYED, dtype: float64"
      ]
     },
     "execution_count": 6,
     "metadata": {},
     "output_type": "execute_result"
    }
   ],
   "source": [
    "app_train['DAYS_EMPLOYED'].describe()"
   ]
  },
  {
   "cell_type": "code",
   "execution_count": 7,
   "metadata": {},
   "outputs": [
    {
     "data": {
      "text/plain": [
       "count     48744.000000\n",
       "mean      67485.366322\n",
       "std      144348.507136\n",
       "min      -17463.000000\n",
       "25%       -2910.000000\n",
       "50%       -1293.000000\n",
       "75%        -296.000000\n",
       "max      365243.000000\n",
       "Name: DAYS_EMPLOYED, dtype: float64"
      ]
     },
     "execution_count": 7,
     "metadata": {},
     "output_type": "execute_result"
    }
   ],
   "source": [
    "app_test['DAYS_EMPLOYED'].describe()"
   ]
  },
  {
   "cell_type": "code",
   "execution_count": 8,
   "metadata": {},
   "outputs": [
    {
     "data": {
      "text/plain": [
       "Text(0.5, 0, 'Days Employment')"
      ]
     },
     "execution_count": 8,
     "metadata": {},
     "output_type": "execute_result"
    },
    {
     "data": {
      "image/png": "[encoded data removed]",
      "text/plain": [
       "<Figure size 504x504 with 1 Axes>"
      ]
     },
     "metadata": {
      "needs_background": "light"
     },
     "output_type": "display_data"
    }
   ],
   "source": [
    "plt.rcParams[\"figure.figsize\"] = (7, 7)\n",
    "app_train['DAYS_EMPLOYED'].plot.hist(title = 'Days Employment Histogram')\n",
    "plt.xticks(rotation=45)\n",
    "plt.xlabel('Days Employment')"
   ]
  },
  {
   "attachments": {},
   "cell_type": "markdown",
   "metadata": {},
   "source": [
    "Ici, on peut voir un problème, dans le code, on peut voir que le \"max\" représente 1000 années. Je vais regarder si c'est un individu isolé."
   ]
  },
  {
   "cell_type": "code",
   "execution_count": 9,
   "metadata": {},
   "outputs": [
    {
     "name": "stdout",
     "output_type": "stream",
     "text": [
      "55374 valeurs avec 365243 jours employés pour les données\n",
      "307511 valeurs totales des jours employés pour les données\n",
      "***********************\n",
      "9274 valeurs avec 365243 jours employés pour les données\n",
      "48744 valeurs totales des jours employés pour les données\n"
     ]
    }
   ],
   "source": [
    "print(\"%0.0f valeurs avec 365243 jours employés pour les données\" % \n",
    "      len(app_train[app_train['DAYS_EMPLOYED'] == 365243]))\n",
    "print(\"%0.0f valeurs totales des jours employés pour les données\" % app_train.shape[0])\n",
    "print(\"***********************\")\n",
    "print(\"%0.0f valeurs avec 365243 jours employés pour les données\" % \n",
    "      len(app_test[app_test['DAYS_EMPLOYED'] == 365243]))\n",
    "print(\"%0.0f valeurs totales des jours employés pour les données\" % app_test.shape[0])"
   ]
  },
  {
   "cell_type": "code",
   "execution_count": 10,
   "metadata": {},
   "outputs": [],
   "source": [
    "app_train['DAYS_EMPLOYED_OUTLIERS'] = app_train[\"DAYS_EMPLOYED\"] == 365243\n",
    "app_test['DAYS_EMPLOYED_OUTLIERS'] = app_test[\"DAYS_EMPLOYED\"] == 365243\n",
    "\n",
    "#Replace outliers values with nan\n",
    "app_train['DAYS_EMPLOYED'].replace({365243: np.nan}, inplace = True)\n",
    "app_test['DAYS_EMPLOYED'].replace({365243: np.nan}, inplace = True)"
   ]
  },
  {
   "cell_type": "code",
   "execution_count": 11,
   "metadata": {},
   "outputs": [
    {
     "data": {
      "text/plain": [
       "Text(0.5, 0, 'Days Employment')"
      ]
     },
     "execution_count": 11,
     "metadata": {},
     "output_type": "execute_result"
    },
    {
     "data": {
      "image/png": "[encoded data removed]",
      "text/plain": [
       "<Figure size 576x576 with 1 Axes>"
      ]
     },
     "metadata": {
      "needs_background": "light"
     },
     "output_type": "display_data"
    }
   ],
   "source": [
    "plt.rcParams[\"figure.figsize\"] = (8, 8)\n",
    "app_train['DAYS_EMPLOYED'].plot.hist(title = 'Days Employment Histogram')\n",
    "plt.xticks(rotation=45)\n",
    "plt.xlabel('Days Employment')"
   ]
  },
  {
   "attachments": {},
   "cell_type": "markdown",
   "metadata": {},
   "source": [
    "## Gestion des valeurs manquantes <a class=\"anchor\" id=\"chapter2\"></a>\n",
    "\n",
    "On va s'attaquer aux valeurs manquantes, aux outliers et aux doublons."
   ]
  },
  {
   "cell_type": "code",
   "execution_count": 12,
   "metadata": {},
   "outputs": [
    {
     "name": "stdout",
     "output_type": "stream",
     "text": [
      "                             0\n",
      "SK_ID_CURR                   0\n",
      "FLAG_DOCUMENT_12             0\n",
      "FLAG_DOCUMENT_5              0\n",
      "FLAG_DOCUMENT_6              0\n",
      "FLAG_DOCUMENT_7              0\n",
      "FLAG_DOCUMENT_8              0\n",
      "FLAG_DOCUMENT_9              0\n",
      "FLAG_DOCUMENT_10             0\n",
      "FLAG_DOCUMENT_11             0\n",
      "FLAG_DOCUMENT_13             0\n",
      "FLAG_DOCUMENT_3              0\n",
      "FLAG_DOCUMENT_14             0\n",
      "FLAG_DOCUMENT_15             0\n",
      "FLAG_DOCUMENT_16             0\n",
      "FLAG_DOCUMENT_17             0\n",
      "FLAG_DOCUMENT_18             0\n",
      "FLAG_DOCUMENT_19             0\n",
      "FLAG_DOCUMENT_20             0\n",
      "FLAG_DOCUMENT_4              0\n",
      "FLAG_DOCUMENT_2              0\n",
      "TARGET                       0\n",
      "FLAG_EMAIL                   0\n",
      "CNT_CHILDREN                 0\n",
      "DAYS_ID_PUBLISH              0\n",
      "FLAG_MOBIL                   0\n",
      "FLAG_EMP_PHONE               0\n",
      "FLAG_WORK_PHONE              0\n",
      "FLAG_CONT_MOBILE             0\n",
      "FLAG_PHONE                   0\n",
      "REGION_RATING_CLIENT         0\n",
      "LIVE_CITY_NOT_WORK_CITY      0\n",
      "REGION_RATING_CLIENT_W_CITY  0\n",
      "HOUR_APPR_PROCESS_START      0\n",
      "REG_REGION_NOT_LIVE_REGION   0\n",
      "REG_REGION_NOT_WORK_REGION   0\n",
      "LIVE_REGION_NOT_WORK_REGION  0\n",
      "REG_CITY_NOT_LIVE_CITY       0\n",
      "REG_CITY_NOT_WORK_CITY       0\n",
      "FLAG_DOCUMENT_21             0\n",
      "############################################\n",
      "                             0\n",
      "SK_ID_CURR                   0\n",
      "FLAG_DOCUMENT_12             0\n",
      "FLAG_DOCUMENT_5              0\n",
      "FLAG_DOCUMENT_6              0\n",
      "FLAG_DOCUMENT_7              0\n",
      "FLAG_DOCUMENT_8              0\n",
      "FLAG_DOCUMENT_9              0\n",
      "FLAG_DOCUMENT_10             0\n",
      "FLAG_DOCUMENT_11             0\n",
      "FLAG_DOCUMENT_13             0\n",
      "CNT_CHILDREN                 0\n",
      "FLAG_DOCUMENT_14             0\n",
      "FLAG_DOCUMENT_15             0\n",
      "FLAG_DOCUMENT_16             0\n",
      "FLAG_DOCUMENT_17             0\n",
      "FLAG_DOCUMENT_18             0\n",
      "FLAG_DOCUMENT_19             0\n",
      "FLAG_DOCUMENT_20             0\n",
      "FLAG_DOCUMENT_4              0\n",
      "FLAG_DOCUMENT_3              0\n",
      "FLAG_DOCUMENT_2              0\n",
      "LIVE_CITY_NOT_WORK_CITY      0\n",
      "DAYS_ID_PUBLISH              0\n",
      "FLAG_MOBIL                   0\n",
      "FLAG_EMP_PHONE               0\n",
      "FLAG_WORK_PHONE              0\n",
      "FLAG_CONT_MOBILE             0\n",
      "FLAG_PHONE                   0\n",
      "FLAG_EMAIL                   0\n",
      "REGION_RATING_CLIENT         0\n",
      "REGION_RATING_CLIENT_W_CITY  0\n",
      "HOUR_APPR_PROCESS_START      0\n",
      "REG_REGION_NOT_LIVE_REGION   0\n",
      "REG_REGION_NOT_WORK_REGION   0\n",
      "LIVE_REGION_NOT_WORK_REGION  0\n",
      "REG_CITY_NOT_LIVE_CITY       0\n",
      "REG_CITY_NOT_WORK_CITY       0\n",
      "FLAG_DOCUMENT_21             0\n"
     ]
    }
   ],
   "source": [
    "col_int_train = app_train.select_dtypes(include = 'int64')\n",
    "print(pd.DataFrame(col_int_train.isnull().sum().sort_values(ascending = False)))\n",
    "print(\"############################################\")\n",
    "col_int_test = app_test.select_dtypes(include = 'int64')\n",
    "print(pd.DataFrame(col_int_test.isnull().sum().sort_values(ascending = False)))"
   ]
  },
  {
   "attachments": {},
   "cell_type": "markdown",
   "metadata": {},
   "source": [
    "On peut voir que les valeurs entières ne possèdent pas de valeurs manquantes."
   ]
  },
  {
   "cell_type": "code",
   "execution_count": 13,
   "metadata": {},
   "outputs": [
    {
     "name": "stdout",
     "output_type": "stream",
     "text": [
      "                                 0\n",
      "COMMONAREA_MODE             214865\n",
      "COMMONAREA_AVG              214865\n",
      "COMMONAREA_MEDI             214865\n",
      "NONLIVINGAPARTMENTS_MODE    213514\n",
      "NONLIVINGAPARTMENTS_MEDI    213514\n",
      "...                            ...\n",
      "AMT_CREDIT                       0\n",
      "DAYS_REGISTRATION                0\n",
      "DAYS_BIRTH                       0\n",
      "REGION_POPULATION_RELATIVE       0\n",
      "AMT_INCOME_TOTAL                 0\n",
      "\n",
      "[67 rows x 1 columns]\n",
      "############################################\n",
      "                                0\n",
      "COMMONAREA_MEDI             33495\n",
      "COMMONAREA_AVG              33495\n",
      "COMMONAREA_MODE             33495\n",
      "NONLIVINGAPARTMENTS_AVG     33347\n",
      "NONLIVINGAPARTMENTS_MODE    33347\n",
      "...                           ...\n",
      "DAYS_REGISTRATION               0\n",
      "DAYS_BIRTH                      0\n",
      "REGION_POPULATION_RELATIVE      0\n",
      "AMT_GOODS_PRICE                 0\n",
      "AMT_INCOME_TOTAL                0\n",
      "\n",
      "[67 rows x 1 columns]\n"
     ]
    }
   ],
   "source": [
    "col_float_train = app_train.select_dtypes(include = 'float64')\n",
    "print(pd.DataFrame(col_float_train.isnull().sum().sort_values(ascending = False)))\n",
    "print(\"############################################\")\n",
    "col_float_test = app_test.select_dtypes(include = 'float64')\n",
    "print(pd.DataFrame(col_float_test.isnull().sum().sort_values(ascending = False)))"
   ]
  },
  {
   "attachments": {},
   "cell_type": "markdown",
   "metadata": {},
   "source": [
    "Pour les float, on va regarder comment on va imputer les valeurs manquantes."
   ]
  },
  {
   "cell_type": "code",
   "execution_count": 14,
   "metadata": {},
   "outputs": [
    {
     "name": "stdout",
     "output_type": "stream",
     "text": [
      "                                 0\n",
      "FONDKAPREMONT_MODE          210295\n",
      "WALLSMATERIAL_MODE          156341\n",
      "HOUSETYPE_MODE              154297\n",
      "EMERGENCYSTATE_MODE         145755\n",
      "OCCUPATION_TYPE              96391\n",
      "NAME_TYPE_SUITE               1292\n",
      "NAME_CONTRACT_TYPE               0\n",
      "CODE_GENDER                      0\n",
      "FLAG_OWN_CAR                     0\n",
      "FLAG_OWN_REALTY                  0\n",
      "NAME_INCOME_TYPE                 0\n",
      "NAME_EDUCATION_TYPE              0\n",
      "NAME_FAMILY_STATUS               0\n",
      "NAME_HOUSING_TYPE                0\n",
      "WEEKDAY_APPR_PROCESS_START       0\n",
      "ORGANIZATION_TYPE                0\n",
      "############################################\n",
      "                                0\n",
      "FONDKAPREMONT_MODE          32797\n",
      "WALLSMATERIAL_MODE          23893\n",
      "HOUSETYPE_MODE              23619\n",
      "EMERGENCYSTATE_MODE         22209\n",
      "OCCUPATION_TYPE             15605\n",
      "NAME_TYPE_SUITE               911\n",
      "NAME_CONTRACT_TYPE              0\n",
      "CODE_GENDER                     0\n",
      "FLAG_OWN_CAR                    0\n",
      "FLAG_OWN_REALTY                 0\n",
      "NAME_INCOME_TYPE                0\n",
      "NAME_EDUCATION_TYPE             0\n",
      "NAME_FAMILY_STATUS              0\n",
      "NAME_HOUSING_TYPE               0\n",
      "WEEKDAY_APPR_PROCESS_START      0\n",
      "ORGANIZATION_TYPE               0\n"
     ]
    }
   ],
   "source": [
    "col_obj_train = app_train.select_dtypes(include = 'object')\n",
    "print(pd.DataFrame(col_obj_train.isnull().sum().sort_values(ascending = False)))\n",
    "print(\"############################################\")\n",
    "col_obj_test = app_test.select_dtypes(include = 'object')\n",
    "print(pd.DataFrame(col_obj_test.isnull().sum().sort_values(ascending = False)))"
   ]
  },
  {
   "attachments": {},
   "cell_type": "markdown",
   "metadata": {},
   "source": [
    "On va examiner les 6 variables qui possèdent des valeurs manquantes et on va remplacer les valeurs manquantes soit par les valeurs ou il est écrit : autre, non spécifié, etc ou sinon à la valeur la plus haute."
   ]
  },
  {
   "cell_type": "code",
   "execution_count": 15,
   "metadata": {},
   "outputs": [
    {
     "data": {
      "text/plain": [
       "reg oper account         73830\n",
       "reg oper spec account    12080\n",
       "not specified             5687\n",
       "org spec account          5619\n",
       "Name: FONDKAPREMONT_MODE, dtype: int64"
      ]
     },
     "execution_count": 15,
     "metadata": {},
     "output_type": "execute_result"
    }
   ],
   "source": [
    "col_obj_train[\"FONDKAPREMONT_MODE\"].value_counts()"
   ]
  },
  {
   "attachments": {},
   "cell_type": "markdown",
   "metadata": {},
   "source": [
    "On remplacera les valeurs manquantes pas \"not specified\""
   ]
  },
  {
   "cell_type": "code",
   "execution_count": 16,
   "metadata": {},
   "outputs": [
    {
     "data": {
      "text/plain": [
       "Panel           66040\n",
       "Stone, brick    64815\n",
       "Block            9253\n",
       "Wooden           5362\n",
       "Mixed            2296\n",
       "Monolithic       1779\n",
       "Others           1625\n",
       "Name: WALLSMATERIAL_MODE, dtype: int64"
      ]
     },
     "execution_count": 16,
     "metadata": {},
     "output_type": "execute_result"
    }
   ],
   "source": [
    "col_obj_train[\"WALLSMATERIAL_MODE\"].value_counts()"
   ]
  },
  {
   "attachments": {},
   "cell_type": "markdown",
   "metadata": {},
   "source": [
    "On remplacera les valeurs manquantes pas \"Others\""
   ]
  },
  {
   "cell_type": "code",
   "execution_count": 17,
   "metadata": {},
   "outputs": [
    {
     "data": {
      "text/plain": [
       "block of flats      150503\n",
       "specific housing      1499\n",
       "terraced house        1212\n",
       "Name: HOUSETYPE_MODE, dtype: int64"
      ]
     },
     "execution_count": 17,
     "metadata": {},
     "output_type": "execute_result"
    }
   ],
   "source": [
    "col_obj_train[\"HOUSETYPE_MODE\"].value_counts()"
   ]
  },
  {
   "attachments": {},
   "cell_type": "markdown",
   "metadata": {},
   "source": [
    "On remplacera les valeurs manquantes pas \"block of flats\""
   ]
  },
  {
   "cell_type": "code",
   "execution_count": 18,
   "metadata": {},
   "outputs": [
    {
     "data": {
      "text/plain": [
       "No     159428\n",
       "Yes      2328\n",
       "Name: EMERGENCYSTATE_MODE, dtype: int64"
      ]
     },
     "execution_count": 18,
     "metadata": {},
     "output_type": "execute_result"
    }
   ],
   "source": [
    "col_obj_train[\"EMERGENCYSTATE_MODE\"].value_counts()"
   ]
  },
  {
   "attachments": {},
   "cell_type": "markdown",
   "metadata": {},
   "source": [
    "On remplacera les valeurs manquantes pas \"No\""
   ]
  },
  {
   "cell_type": "code",
   "execution_count": 19,
   "metadata": {},
   "outputs": [
    {
     "data": {
      "text/plain": [
       "Laborers                 55186\n",
       "Sales staff              32102\n",
       "Core staff               27570\n",
       "Managers                 21371\n",
       "Drivers                  18603\n",
       "High skill tech staff    11380\n",
       "Accountants               9813\n",
       "Medicine staff            8537\n",
       "Security staff            6721\n",
       "Cooking staff             5946\n",
       "Cleaning staff            4653\n",
       "Private service staff     2652\n",
       "Low-skill Laborers        2093\n",
       "Waiters/barmen staff      1348\n",
       "Secretaries               1305\n",
       "Realty agents              751\n",
       "HR staff                   563\n",
       "IT staff                   526\n",
       "Name: OCCUPATION_TYPE, dtype: int64"
      ]
     },
     "execution_count": 19,
     "metadata": {},
     "output_type": "execute_result"
    }
   ],
   "source": [
    "col_obj_train[\"OCCUPATION_TYPE\"].value_counts()"
   ]
  },
  {
   "attachments": {},
   "cell_type": "markdown",
   "metadata": {},
   "source": [
    "On remplacera les valeurs manquantes pas \"Laborers\""
   ]
  },
  {
   "cell_type": "code",
   "execution_count": 20,
   "metadata": {},
   "outputs": [
    {
     "data": {
      "text/plain": [
       "Unaccompanied      248526\n",
       "Family              40149\n",
       "Spouse, partner     11370\n",
       "Children             3267\n",
       "Other_B              1770\n",
       "Other_A               866\n",
       "Group of people       271\n",
       "Name: NAME_TYPE_SUITE, dtype: int64"
      ]
     },
     "execution_count": 20,
     "metadata": {},
     "output_type": "execute_result"
    }
   ],
   "source": [
    "col_obj_train[\"NAME_TYPE_SUITE\"].value_counts()"
   ]
  },
  {
   "attachments": {},
   "cell_type": "markdown",
   "metadata": {},
   "source": [
    "On remplacera les valeurs manquantes pas \"Unaccompanied\""
   ]
  },
  {
   "attachments": {},
   "cell_type": "markdown",
   "metadata": {},
   "source": [
    "### Les types 'object' <a class=\"anchor\" id=\"section_1_1\"></a>"
   ]
  },
  {
   "cell_type": "code",
   "execution_count": 21,
   "metadata": {},
   "outputs": [],
   "source": [
    "from sklearn.impute import SimpleImputer\n",
    "\n",
    "col = [\"HOUSETYPE_MODE\", \"EMERGENCYSTATE_MODE\", \"OCCUPATION_TYPE\", \"NAME_TYPE_SUITE\"]\n",
    "\n",
    "imp = SimpleImputer(missing_values=np.nan, strategy='most_frequent')\n",
    "\n",
    "app_train[col] = imp.fit_transform(app_train[col])\n",
    "app_test[col] = imp.fit_transform(app_test[col])"
   ]
  },
  {
   "cell_type": "code",
   "execution_count": 22,
   "metadata": {},
   "outputs": [],
   "source": [
    "app_train[\"FONDKAPREMONT_MODE\"] = app_train[\"FONDKAPREMONT_MODE\"].fillna('not specified')\n",
    "app_test[\"FONDKAPREMONT_MODE\"] = app_test[\"FONDKAPREMONT_MODE\"].fillna('not specified')"
   ]
  },
  {
   "cell_type": "code",
   "execution_count": 23,
   "metadata": {},
   "outputs": [],
   "source": [
    "app_train[\"WALLSMATERIAL_MODE\"] = app_train[\"WALLSMATERIAL_MODE\"].fillna('Others')\n",
    "app_test[\"WALLSMATERIAL_MODE\"] = app_test[\"WALLSMATERIAL_MODE\"].fillna('Others')"
   ]
  },
  {
   "attachments": {},
   "cell_type": "markdown",
   "metadata": {},
   "source": [
    "### Les types \"float64\" <a class=\"anchor\" id=\"section_2_2\"></a>"
   ]
  },
  {
   "cell_type": "code",
   "execution_count": 24,
   "metadata": {},
   "outputs": [],
   "source": [
    "col = col_float_train.columns\n",
    "data_imputed = app_train[col]\n",
    "imp = SimpleImputer(missing_values=np.nan, strategy='median')\n",
    "app_train.loc[:,col] = imp.fit_transform(data_imputed[col])\n",
    "\n",
    "col = col_float_test.columns\n",
    "data_imputed = app_test[col]\n",
    "imp = SimpleImputer(missing_values=np.nan, strategy='median')\n",
    "app_test.loc[:,col] = imp.fit_transform(data_imputed[col])"
   ]
  },
  {
   "attachments": {},
   "cell_type": "markdown",
   "metadata": {},
   "source": [
    "## Gestion des doublons <a class=\"anchor\" id=\"chapter3\"></a>\n",
    "\n",
    "Les données sont maintenant complète, on supprime les doublons de nos deux dossiers."
   ]
  },
  {
   "cell_type": "code",
   "execution_count": null,
   "metadata": {},
   "outputs": [],
   "source": [
    "app_train.drop_duplicates(inplace = True)\n",
    "app_test.drop_duplicates(inplace = True)"
   ]
  },
  {
   "attachments": {},
   "cell_type": "markdown",
   "metadata": {},
   "source": [
    "## Exportation des données <a class=\"anchor\" id=\"chapter4\"></a>\n",
    "\n",
    "Pour ne pas avoir à relancer les codes, on va sauvegarder les tableaux et créer un dossier?"
   ]
  },
  {
   "cell_type": "code",
   "execution_count": null,
   "metadata": {},
   "outputs": [],
   "source": [
    "# On sauvegarde les fichiers dans le dosseri data\n",
    "app_train.to_csv(\"data/app_train.csv\", index=False)\n",
    "app_test.to_csv(\"data/app_test.csv\", index=False)"
   ]
  },
  {
   "cell_type": "code",
   "execution_count": null,
   "metadata": {},
   "outputs": [],
   "source": []
  }
 ],
 "metadata": {
  "kernelspec": {
   "display_name": "base",
   "language": "python",
   "name": "python3"
  },
  "language_info": {
   "codemirror_mode": {
    "name": "ipython",
    "version": 3
   },
   "file_extension": ".py",
   "mimetype": "text/x-python",
   "name": "python",
   "nbconvert_exporter": "python",
   "pygments_lexer": "ipython3",
   "version": "3.9.12 (main, Apr  4 2022, 05:22:27) [MSC v.1916 64 bit (AMD64)]"
  },
  "orig_nbformat": 4,
  "vscode": {
   "interpreter": {
    "hash": "bbc6fb1405f451f194e7593065e68b5d9549c3d089f98f9475f28f3a17bb285e"
   }
  }
 },
 "nbformat": 4,
 "nbformat_minor": 2
}
